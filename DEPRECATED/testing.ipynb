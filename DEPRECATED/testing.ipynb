{
 "cells": [
  {
   "cell_type": "code",
   "execution_count": 1,
   "metadata": {},
   "outputs": [],
   "source": [
    "from classes import *\n",
    "from datetime import date\n"
   ]
  },
  {
   "cell_type": "code",
   "execution_count": 3,
   "metadata": {},
   "outputs": [
    {
     "data": {
      "text/plain": [
       "datetime.timedelta(days=156)"
      ]
     },
     "execution_count": 3,
     "metadata": {},
     "output_type": "execute_result"
    }
   ],
   "source": [
    "date(2021, 10, 27) - date(2021, 5, 24)"
   ]
  },
  {
   "cell_type": "code",
   "execution_count": 2,
   "metadata": {},
   "outputs": [
    {
     "ename": "TypeError",
     "evalue": "unsupported type for timedelta days component: datetime.timedelta",
     "output_type": "error",
     "traceback": [
      "\u001b[0;31m---------------------------------------------------------------------------\u001b[0m",
      "\u001b[0;31mTypeError\u001b[0m                                 Traceback (most recent call last)",
      "Cell \u001b[0;32mIn[2], line 2\u001b[0m\n\u001b[1;32m      1\u001b[0m \u001b[39m#define periods\u001b[39;00m\n\u001b[0;32m----> 2\u001b[0m p1 \u001b[39m=\u001b[39m Period(date(\u001b[39m2021\u001b[39;49m, \u001b[39m5\u001b[39;49m, \u001b[39m24\u001b[39;49m), date(\u001b[39m2021\u001b[39;49m, \u001b[39m10\u001b[39;49m, \u001b[39m27\u001b[39;49m), \u001b[39m146.63\u001b[39;49m)\n\u001b[1;32m      3\u001b[0m p2 \u001b[39m=\u001b[39m Period(date(\u001b[39m2021\u001b[39m, \u001b[39m10\u001b[39m, \u001b[39m28\u001b[39m), date(\u001b[39m2022\u001b[39m, \u001b[39m3\u001b[39m, \u001b[39m31\u001b[39m), \u001b[39m136.52\u001b[39m)\n\u001b[1;32m      4\u001b[0m p3 \u001b[39m=\u001b[39m Period(date(\u001b[39m2022\u001b[39m, \u001b[39m4\u001b[39m, \u001b[39m1\u001b[39m), date(\u001b[39m2022\u001b[39m, \u001b[39m4\u001b[39m, \u001b[39m26\u001b[39m), \u001b[39m23.56\u001b[39m)\n",
      "File \u001b[0;32m~/Documents/Billsinator/classes.py:17\u001b[0m, in \u001b[0;36mPeriod.__init__\u001b[0;34m(self, start, stop, fee)\u001b[0m\n\u001b[1;32m     15\u001b[0m \u001b[39mself\u001b[39m\u001b[39m.\u001b[39mstop \u001b[39m=\u001b[39m stop      \n\u001b[1;32m     16\u001b[0m \u001b[39mself\u001b[39m\u001b[39m.\u001b[39mfee \u001b[39m=\u001b[39m fee\n\u001b[0;32m---> 17\u001b[0m \u001b[39mself\u001b[39m\u001b[39m.\u001b[39mrange \u001b[39m=\u001b[39m timedelta(stop \u001b[39m-\u001b[39;49m start)\n\u001b[1;32m     19\u001b[0m \u001b[39mself\u001b[39m\u001b[39m.\u001b[39mfully \u001b[39m=\u001b[39m []\n\u001b[1;32m     20\u001b[0m \u001b[39mself\u001b[39m\u001b[39m.\u001b[39mpartially \u001b[39m=\u001b[39m []\n",
      "\u001b[0;31mTypeError\u001b[0m: unsupported type for timedelta days component: datetime.timedelta"
     ]
    }
   ],
   "source": [
    "#define periods\n",
    "p1 = Period(date(2021, 5, 24), date(2021, 10, 27), 146.63)\n",
    "p2 = Period(date(2021, 10, 28), date(2022, 3, 31), 136.52)\n",
    "p3 = Period(date(2022, 4, 1), date(2022, 4, 26), 23.56)\n",
    "p4 = Period(date(2022, 4, 27), date(2022, 10, 27), 202.04)\n",
    "p5 = Period(date(2022, 10, 28), date(2023, 3, 31), 202.35)\n",
    "p6 = Period(date(2023, 4, 1), date(2023, 4, 12), 17.46)\n",
    "\n",
    "all_periods = [p1, p2, p3, p4, p5, p6]\n",
    "\n",
    "for p in all_periods:\n",
    "    print(f\"Fee for period -> {p.dates[0]} to {p.dates[1]} ({p.length} days) \\t= £{p.fee}\")"
   ]
  },
  {
   "cell_type": "code",
   "execution_count": null,
   "metadata": {},
   "outputs": [
    {
     "name": "stdout",
     "output_type": "stream",
     "text": [
      "Christian lived here from 24 May 2021 until present\n",
      "Cameron lived here from 24 May 2021 until present\n",
      "Michael lived here from 24 May 2021 until 23 Sep 2022\n",
      "Renata lived here from 24 May 2022 until present\n",
      "Jack lived here from 24 Sep 2022 until present\n"
     ]
    }
   ],
   "source": [
    "#define tenants\n",
    "chris = Tenant(\"Christian\", date(2021, 5, 24))\n",
    "cam = Tenant(\"Cameron\", date(2021, 5, 24))\n",
    "mikey = Tenant(\"Michael\", date(2021, 5, 24), date(2022, 9, 23))\n",
    "ren = Tenant(\"Renata\", date(2022, 5, 24))\n",
    "jack = Tenant(\"Jack\", date(2022, 9, 24))\n",
    "\n",
    "all_tenants = [chris, cam, mikey, ren, jack]\n",
    "\n",
    "for t in all_tenants:\n",
    "    end = \"present\" if t.end == date.today() else t.end_r\n",
    "    print(f\"{t.name} lived here from {t.start_r} until {end}\")"
   ]
  }
 ],
 "metadata": {
  "kernelspec": {
   "display_name": "Python 3",
   "language": "python",
   "name": "python3"
  },
  "language_info": {
   "codemirror_mode": {
    "name": "ipython",
    "version": 3
   },
   "file_extension": ".py",
   "mimetype": "text/x-python",
   "name": "python",
   "nbconvert_exporter": "python",
   "pygments_lexer": "ipython3",
   "version": "3.10.6"
  },
  "orig_nbformat": 4
 },
 "nbformat": 4,
 "nbformat_minor": 2
}
