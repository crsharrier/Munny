{
 "cells": [
  {
   "cell_type": "code",
   "execution_count": 504,
   "metadata": {},
   "outputs": [],
   "source": [
    "from datetime import datetime\n",
    "from datetime import date\n",
    "import pandas as pd"
   ]
  },
  {
   "cell_type": "code",
   "execution_count": 505,
   "metadata": {},
   "outputs": [],
   "source": [
    "#define class for Period and Tenant\n",
    "class Period:\n",
    "    def __init__(self, name, start, end, fee):\n",
    "        self.name = name\n",
    "        self.start = start\n",
    "        self.end = end\n",
    "        self.start_r = self.start.strftime(\"%d %b %Y\")\n",
    "        self.end_r = self.end.strftime(\"%d %b %Y\")\n",
    "        self.len_days = (self.end - self.start).days\n",
    "\n",
    "        self.fee = fee\n",
    "\n",
    "        self.fully = []\n",
    "        self.partially = []\n",
    "        self.no_change = True\n",
    "\n",
    "    def fully_present(self, t):\n",
    "        if t.start <= self.start and t.end >= self.end:\n",
    "            return True\n",
    "        return False\n",
    "    \n",
    "    def partially_present(self, t):\n",
    "        if self.fully_present(t) == False:\n",
    "            if (t.start < self.end and t.start > self.start) or (t.end > self.start and t.end < self.end):\n",
    "                return True\n",
    "        return False\n",
    "        \n",
    "    \n",
    "    #calculate fee per person for a period with no_change\n",
    "    def calculate_per_person(self):\n",
    "        return self.fee / len(self.fully)\n",
    "\n",
    "class Tenant:\n",
    "    def __init__(self, name, start, end=date.today()):\n",
    "        self.name = name\n",
    "        self.start = start\n",
    "        self.end = end\n",
    "        self.start_r = self.start.strftime(\"%d %b %Y\")\n",
    "        self.end_r = self.end.strftime(\"%d %b %Y\")\n",
    "        self.owes = 0"
   ]
  },
  {
   "cell_type": "code",
   "execution_count": 506,
   "metadata": {},
   "outputs": [],
   "source": [
    "#define function to deal with overlap periods\n",
    "def calculate_overlap_period(p):\n",
    "    #set boundaries for sub_periods\n",
    "    boundaries = []\n",
    "    for t in p.partially:\n",
    "        for date in (t.start, t.end):\n",
    "            if date >= p.start and date <= p.end and date not in boundaries:\n",
    "                boundaries.append(date)\n",
    "    boundaries.append(p.start)\n",
    "    boundaries.append(p.end)\n",
    "    boundaries.sort()\n",
    "\n",
    "    #split into smaller periods - add new_fee to relevant tenants\n",
    "    for i in range(0, len(boundaries) - 1):\n",
    "        new_start = boundaries[i]\n",
    "        new_end = boundaries[i + 1]\n",
    "        new_len = (new_end - new_start).days\n",
    "        new_fee = (new_len / p.len_days) * p.fee\n",
    "        sub_p = Period(f\"{p.name}.{i}\", new_start, new_end, new_fee)\n",
    "\n",
    "        for t in all_tenants:\n",
    "            if sub_p.fully_present(t) == True:\n",
    "                sub_p.fully.append(t)\n",
    "            if sub_p.partially_present(t) == True:\n",
    "                sub_p.partially.append(t)\n",
    "                sub_p.no_change = False\n",
    "        if sub_p.no_change:\n",
    "            for t in sub_p.fully:\n",
    "                t.owes += sub_p.calculate_per_person()"
   ]
  },
  {
   "cell_type": "code",
   "execution_count": 507,
   "metadata": {},
   "outputs": [
    {
     "name": "stdout",
     "output_type": "stream",
     "text": [
      "Fee for period 1 -> 24 May 2021 to 27 Oct 2021 (156 days) \t= £146.63\n",
      "Fee for period 2 -> 28 Oct 2021 to 31 Mar 2022 (154 days) \t= £136.52\n",
      "Fee for period 3 -> 01 Apr 2022 to 26 Apr 2022 (25 days) \t= £23.56\n",
      "Fee for period 4 -> 27 Apr 2022 to 27 Oct 2022 (183 days) \t= £202.04\n",
      "Fee for period 5 -> 28 Oct 2022 to 31 Mar 2023 (154 days) \t= £202.35\n",
      "Fee for period 6 -> 01 Apr 2023 to 12 Apr 2023 (11 days) \t= £17.46\n"
     ]
    }
   ],
   "source": [
    "#define periods\n",
    "p1 = Period(1, date(2021, 5, 24), date(2021, 10, 27), 146.63)\n",
    "p2 = Period(2, date(2021, 10, 28), date(2022, 3, 31), 136.52)\n",
    "p3 = Period(3, date(2022, 4, 1), date(2022, 4, 26), 23.56)\n",
    "p4 = Period(4, date(2022, 4, 27), date(2022, 10, 27), 202.04)\n",
    "p5 = Period(5, date(2022, 10, 28), date(2023, 3, 31), 202.35)\n",
    "p6 = Period(6, date(2023, 4, 1), date(2023, 4, 12), 17.46)\n",
    "\n",
    "all_periods = [p1, p2, p3, p4, p5, p6]\n",
    "\n",
    "for p in all_periods:\n",
    "    print(f\"Fee for period {p.name} -> {p.start_r} to {p.end_r} ({p.len_days} days) \\t= £{p.fee}\")"
   ]
  },
  {
   "cell_type": "code",
   "execution_count": 508,
   "metadata": {},
   "outputs": [
    {
     "name": "stdout",
     "output_type": "stream",
     "text": [
      "Christian lived here from 24 May 2021 until present\n",
      "Cameron lived here from 24 May 2021 until present\n",
      "Michael lived here from 24 May 2021 until 24 Sep 2022\n",
      "Renata lived here from 24 May 2022 until present\n",
      "Jack lived here from 24 Sep 2022 until present\n"
     ]
    }
   ],
   "source": [
    "#define tenants\n",
    "chris = Tenant(\"Christian\", date(2021, 5, 24))\n",
    "cam = Tenant(\"Cameron\", date(2021, 5, 24))\n",
    "mikey = Tenant(\"Michael\", date(2021, 5, 24), date(2022, 9, 24))\n",
    "ren = Tenant(\"Renata\", date(2022, 5, 24))\n",
    "jack = Tenant(\"Jack\", date(2022, 9, 24))\n",
    "\n",
    "all_tenants = [chris, cam, mikey, ren, jack]\n",
    "\n",
    "for t in all_tenants:\n",
    "    end = \"present\" if t.end == date.today() else t.end_r\n",
    "    print(f\"{t.name} lived here from {t.start_r} until {end}\")\n"
   ]
  },
  {
   "cell_type": "code",
   "execution_count": 509,
   "metadata": {},
   "outputs": [],
   "source": [
    "#for each period, populate fully[] and partially[]\n",
    "def populate_fully_partially(periods, tenants):\n",
    "    for p in periods:\n",
    "        for t in tenants:\n",
    "            if p.fully_present(t) == True:\n",
    "                p.fully.append(t)\n",
    "            if p.partially_present(t) == True:\n",
    "                p.partially.append(t)\n",
    "                p.no_change = False\n",
    "\n",
    "populate_fully_partially(all_periods, all_tenants)\n",
    "#UNCOMMENT FOR TESTING:\n",
    "#for p in all_periods:\n",
    "#    print(f\"For period {p.name}: partially = {[x.name for x in p.partially]}; fully = {[x.name for x in p.fully]}\")"
   ]
  },
  {
   "cell_type": "code",
   "execution_count": 510,
   "metadata": {},
   "outputs": [
    {
     "name": "stdout",
     "output_type": "stream",
     "text": [
      "Christian owes 210.18326502732242\n",
      "Cameron owes 210.18326502732242\n",
      "Michael owes 146.1224043715847\n",
      "Renata owes 98.01020491803278\n",
      "Jack owes 64.0608606557377\n",
      "total = 728.56\n"
     ]
    }
   ],
   "source": [
    "#calculate owings and print totals\n",
    "#calculate rent if no_change, else deal with overlap period\n",
    "def calculate_owings():\n",
    "    for p in all_periods:\n",
    "        if p.no_change:\n",
    "            for t in p.fully:\n",
    "                t.owes += p.calculate_per_person()\n",
    "        else:\n",
    "            calculate_overlap_period(p)\n",
    "\n",
    "def print_totals():\n",
    "    total = 0\n",
    "    for t in all_tenants:\n",
    "        total += t.owes\n",
    "        print(f\"{t.name} owes {t.owes}\")\n",
    "    print(f\"total = {total}\")\n",
    "\n",
    "calculate_owings()\n",
    "print_totals()"
   ]
  }
 ],
 "metadata": {
  "kernelspec": {
   "display_name": "Python 3",
   "language": "python",
   "name": "python3"
  },
  "language_info": {
   "codemirror_mode": {
    "name": "ipython",
    "version": 3
   },
   "file_extension": ".py",
   "mimetype": "text/x-python",
   "name": "python",
   "nbconvert_exporter": "python",
   "pygments_lexer": "ipython3",
   "version": "3.10.6"
  },
  "orig_nbformat": 4
 },
 "nbformat": 4,
 "nbformat_minor": 2
}
